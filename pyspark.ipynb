{
 "cells": [
  {
   "cell_type": "markdown",
   "id": "5b06cf36",
   "metadata": {},
   "source": [
    "# Installation of pyspark"
   ]
  },
  {
   "cell_type": "code",
   "execution_count": 1,
   "id": "44239a93",
   "metadata": {},
   "outputs": [],
   "source": [
    "# pip install pyspark"
   ]
  },
  {
   "cell_type": "code",
   "execution_count": 2,
   "id": "6f606f03",
   "metadata": {},
   "outputs": [],
   "source": [
    "# spark SQL\n",
    "# pip install pyspark[sql]\n",
    "# pandas API on Spark\n",
    "# pip install pyspark[pandas_on_spark] plotly  # to plot your data, you can install plotly together.\n",
    "# Spark Connect\n",
    "# pip install pyspark[connect]"
   ]
  },
  {
   "cell_type": "code",
   "execution_count": 3,
   "id": "43fddc8d",
   "metadata": {},
   "outputs": [],
   "source": [
    "#SparkSession which is the entry point of PySpark\n",
    "from pyspark.sql import SparkSession\n",
    "\n",
    "spark = SparkSession.builder.getOrCreate()"
   ]
  },
  {
   "cell_type": "markdown",
   "id": "ca990c7e",
   "metadata": {},
   "source": [
    "# Creating Dataframe:"
   ]
  },
  {
   "cell_type": "code",
   "execution_count": 4,
   "id": "e2f6b069",
   "metadata": {},
   "outputs": [
    {
     "data": {
      "text/plain": [
       "DataFrame[a: bigint, b: double, c: string, d: date, e: timestamp]"
      ]
     },
     "execution_count": 4,
     "metadata": {},
     "output_type": "execute_result"
    }
   ],
   "source": [
    "from datetime import datetime, date\n",
    "import pandas as pd\n",
    "from pyspark.sql import Row\n",
    "\n",
    "df = spark.createDataFrame([\n",
    "    Row(a=1, b=2., c='string1', d=date(2000, 1, 1), e=datetime(2000, 1, 1, 12, 0)),\n",
    "    Row(a=2, b=3., c='string2', d=date(2000, 2, 1), e=datetime(2000, 1, 2, 12, 0)),\n",
    "    Row(a=4, b=5., c='string3', d=date(2000, 3, 1), e=datetime(2000, 1, 3, 12, 0))\n",
    "])\n",
    "df"
   ]
  },
  {
   "cell_type": "code",
   "execution_count": 7,
   "id": "83487bf2",
   "metadata": {},
   "outputs": [
    {
     "data": {
      "text/plain": [
       "<bound method DataFrame.show of DataFrame[a: bigint, b: double, c: string, d: date, e: timestamp]>"
      ]
     },
     "execution_count": 7,
     "metadata": {},
     "output_type": "execute_result"
    }
   ],
   "source": [
    "df.show"
   ]
  },
  {
   "cell_type": "code",
   "execution_count": null,
   "id": "4b4fdb83",
   "metadata": {},
   "outputs": [],
   "source": []
  }
 ],
 "metadata": {
  "kernelspec": {
   "display_name": "Python 3 (ipykernel)",
   "language": "python",
   "name": "python3"
  },
  "language_info": {
   "codemirror_mode": {
    "name": "ipython",
    "version": 3
   },
   "file_extension": ".py",
   "mimetype": "text/x-python",
   "name": "python",
   "nbconvert_exporter": "python",
   "pygments_lexer": "ipython3",
   "version": "3.10.9"
  }
 },
 "nbformat": 4,
 "nbformat_minor": 5
}
